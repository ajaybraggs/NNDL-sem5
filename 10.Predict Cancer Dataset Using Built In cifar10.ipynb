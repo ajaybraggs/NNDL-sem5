{
 "cells": [
  {
   "cell_type": "code",
   "execution_count": 1,
   "id": "91f00b5d",
   "metadata": {},
   "outputs": [],
   "source": [
    "import tensorflow as tf\n",
    "from tensorflow import keras\n",
    "from tensorflow.keras import layers"
   ]
  },
  {
   "cell_type": "code",
   "execution_count": 2,
   "id": "d1f4c5cb",
   "metadata": {},
   "outputs": [],
   "source": [
    "(train_images,train_labels),(test_images,test_labels)=keras.datasets.cifar10.load_data()"
   ]
  },
  {
   "cell_type": "code",
   "execution_count": 3,
   "id": "6d665c76",
   "metadata": {},
   "outputs": [],
   "source": [
    "train_images=train_images/255.0\n",
    "test_images=test_images/255.0"
   ]
  },
  {
   "cell_type": "code",
   "execution_count": 4,
   "id": "2f086d68",
   "metadata": {},
   "outputs": [],
   "source": [
    "model=keras.Sequential([\n",
    "    layers.Conv2D(32,(3,3),activation='relu',input_shape=(32,32,3)),\n",
    "    layers.MaxPooling2D((2,2)),\n",
    "    layers.Conv2D(64,(3,3),activation=\"relu\"),\n",
    "    layers.MaxPooling2D((2,2)),\n",
    "    layers.Conv2D(64,(3,3),activation=\"relu\"),\n",
    "    layers.Flatten(),\n",
    "    layers.Dense(64,activation=\"relu\"),\n",
    "    layers.Dense(10)\n",
    "])"
   ]
  },
  {
   "cell_type": "code",
   "execution_count": 5,
   "id": "25535f54",
   "metadata": {},
   "outputs": [],
   "source": [
    "model.compile(optimizer=\"adam\",\n",
    "             loss=keras.losses.SparseCategoricalCrossentropy(from_logits=True),\n",
    "             metrics=['accuracy'])"
   ]
  },
  {
   "cell_type": "code",
   "execution_count": 6,
   "id": "a3b059c8",
   "metadata": {},
   "outputs": [
    {
     "name": "stdout",
     "output_type": "stream",
     "text": [
      "Epoch 1/10\n",
      "1563/1563 [==============================] - 35s 22ms/step - loss: 1.5555 - accuracy: 0.4323 - val_loss: 1.3586 - val_accuracy: 0.5100\n",
      "Epoch 2/10\n",
      "1563/1563 [==============================] - 34s 22ms/step - loss: 1.1976 - accuracy: 0.5731 - val_loss: 1.3030 - val_accuracy: 0.5518\n",
      "Epoch 3/10\n",
      "1563/1563 [==============================] - 34s 22ms/step - loss: 1.0567 - accuracy: 0.6279 - val_loss: 1.0270 - val_accuracy: 0.6381\n",
      "Epoch 4/10\n",
      "1563/1563 [==============================] - 34s 21ms/step - loss: 0.9561 - accuracy: 0.6645 - val_loss: 0.9742 - val_accuracy: 0.6620\n",
      "Epoch 5/10\n",
      "1563/1563 [==============================] - 34s 21ms/step - loss: 0.8794 - accuracy: 0.6892 - val_loss: 0.9208 - val_accuracy: 0.6767\n",
      "Epoch 6/10\n",
      "1563/1563 [==============================] - 34s 21ms/step - loss: 0.8247 - accuracy: 0.7106 - val_loss: 0.9063 - val_accuracy: 0.6876\n",
      "Epoch 7/10\n",
      "1563/1563 [==============================] - 34s 21ms/step - loss: 0.7741 - accuracy: 0.7272 - val_loss: 0.9316 - val_accuracy: 0.6825\n",
      "Epoch 8/10\n",
      "1563/1563 [==============================] - 34s 22ms/step - loss: 0.7363 - accuracy: 0.7411 - val_loss: 0.8842 - val_accuracy: 0.6994\n",
      "Epoch 9/10\n",
      "1563/1563 [==============================] - 34s 22ms/step - loss: 0.7003 - accuracy: 0.7531 - val_loss: 0.9077 - val_accuracy: 0.6975\n",
      "Epoch 10/10\n",
      "1563/1563 [==============================] - 33s 21ms/step - loss: 0.6623 - accuracy: 0.7693 - val_loss: 0.8882 - val_accuracy: 0.7035\n"
     ]
    }
   ],
   "source": [
    "history=model.fit(train_images,train_labels,epochs=10,validation_data=(test_images,test_labels))"
   ]
  },
  {
   "cell_type": "code",
   "execution_count": 7,
   "id": "229a0c17",
   "metadata": {},
   "outputs": [
    {
     "name": "stdout",
     "output_type": "stream",
     "text": [
      "313/313 - 2s - loss: 0.8882 - accuracy: 0.7035 - 2s/epoch - 7ms/step\n",
      "\n",
      "Test Accuracy :  0.703499972820282\n",
      "313/313 [==============================] - 2s 7ms/step\n"
     ]
    }
   ],
   "source": [
    "test_loss,test_acc=model.evaluate(test_images,test_labels,verbose=2)\n",
    "print(\"\\nTest Accuracy : \",test_acc)\n",
    "prediction=model.predict(test_images)"
   ]
  },
  {
   "cell_type": "code",
   "execution_count": null,
   "id": "daa1b23b",
   "metadata": {},
   "outputs": [],
   "source": []
  }
 ],
 "metadata": {
  "kernelspec": {
   "display_name": "Python 3 (ipykernel)",
   "language": "python",
   "name": "python3"
  },
  "language_info": {
   "codemirror_mode": {
    "name": "ipython",
    "version": 3
   },
   "file_extension": ".py",
   "mimetype": "text/x-python",
   "name": "python",
   "nbconvert_exporter": "python",
   "pygments_lexer": "ipython3",
   "version": "3.9.17"
  }
 },
 "nbformat": 4,
 "nbformat_minor": 5
}
