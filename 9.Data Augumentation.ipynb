{
 "cells": [
  {
   "cell_type": "code",
   "execution_count": 1,
   "id": "503be245",
   "metadata": {},
   "outputs": [],
   "source": [
    "import numpy as np\n",
    "import tensorflow as tf\n",
    "from tensorflow import keras\n",
    "from tensorflow.keras import layers\n",
    "from tensorflow.keras.preprocessing.image import ImageDataGenerator"
   ]
  },
  {
   "cell_type": "code",
   "execution_count": 2,
   "id": "4b35ea30",
   "metadata": {},
   "outputs": [],
   "source": [
    "model=keras.Sequential(\n",
    "[\n",
    "    layers.Conv2D(32,(3,3),activation=\"relu\",padding=\"same\",input_shape=(28,28,1)),\n",
    "    layers.MaxPooling2D(pool_size=(2,2)),\n",
    "    layers.Flatten(),\n",
    "    layers.Dense(10,activation=\"softmax\"),\n",
    "    \n",
    "])"
   ]
  },
  {
   "cell_type": "code",
   "execution_count": 3,
   "id": "ab5f14ef",
   "metadata": {},
   "outputs": [],
   "source": [
    "(x_train,y_train),(x_test,y_test)=keras.datasets.mnist.load_data()\n",
    "\n",
    "#Scale the images to [0,1] range\n",
    "x_train = x_train.astype(\"float32\")/255\n",
    "x_test = x_test.astype(\"float32\")/255\n",
    "\n",
    "#Add a channel dimension to the images\n",
    "x_train = np.expand_dims(x_train,-1)\n",
    "x_test = np.expand_dims(x_test,-1)\n",
    "\n",
    "#Split the training set into training and validationsets\n",
    "x_train,x_val=x_train[:50000],x_train[50000:]\n",
    "y_train,y_val=y_train[:50000],y_train[50000:]"
   ]
  },
  {
   "cell_type": "code",
   "execution_count": 4,
   "id": "7807ceb6",
   "metadata": {},
   "outputs": [],
   "source": [
    "datagen=ImageDataGenerator(\n",
    "    rotation_range=10,\n",
    "    zoom_range=0.1,\n",
    "    width_shift_range=0.1,\n",
    "    height_shift_range=0.1,\n",
    "    shear_range=0.1,\n",
    "    horizontal_flip=False,\n",
    "    vertical_flip=False,         \n",
    ")"
   ]
  },
  {
   "cell_type": "code",
   "execution_count": 5,
   "id": "f2c2a3b4",
   "metadata": {},
   "outputs": [
    {
     "name": "stdout",
     "output_type": "stream",
     "text": [
      "Epoch 1/5\n",
      "1563/1563 [==============================] - 11s 7ms/step - loss: 0.2421 - accuracy: 0.9300 - val_loss: 0.1092 - val_accuracy: 0.9703\n",
      "Epoch 2/5\n",
      "1563/1563 [==============================] - 11s 7ms/step - loss: 0.0846 - accuracy: 0.9751 - val_loss: 0.0739 - val_accuracy: 0.9796\n",
      "Epoch 3/5\n",
      "1563/1563 [==============================] - 11s 7ms/step - loss: 0.0616 - accuracy: 0.9815 - val_loss: 0.0663 - val_accuracy: 0.9821\n",
      "Epoch 4/5\n",
      "1563/1563 [==============================] - 11s 7ms/step - loss: 0.0506 - accuracy: 0.9852 - val_loss: 0.0627 - val_accuracy: 0.9808\n",
      "Epoch 5/5\n",
      "1563/1563 [==============================] - 11s 7ms/step - loss: 0.0424 - accuracy: 0.9875 - val_loss: 0.0625 - val_accuracy: 0.9816\n"
     ]
    }
   ],
   "source": [
    "#without data augmentation\n",
    "model.compile(loss=\"sparse_categorical_crossentropy\",optimizer=\"adam\",metrics=[\"accuracy\"])\n",
    "history1=model.fit(x_train,y_train,batch_size=32,epochs=5,validation_data=(x_val,y_val))"
   ]
  },
  {
   "cell_type": "code",
   "execution_count": 6,
   "id": "7a4408f1",
   "metadata": {},
   "outputs": [
    {
     "name": "stdout",
     "output_type": "stream",
     "text": [
      "Epoch 1/5\n",
      "1563/1563 [==============================] - 18s 11ms/step - loss: 0.2955 - accuracy: 0.9121 - val_loss: 0.1073 - val_accuracy: 0.9699\n",
      "Epoch 2/5\n",
      "1563/1563 [==============================] - 18s 11ms/step - loss: 0.2087 - accuracy: 0.9371 - val_loss: 0.1175 - val_accuracy: 0.9678\n",
      "Epoch 3/5\n",
      "1563/1563 [==============================] - 18s 11ms/step - loss: 0.1831 - accuracy: 0.9449 - val_loss: 0.1369 - val_accuracy: 0.9613\n",
      "Epoch 4/5\n",
      "1563/1563 [==============================] - 18s 11ms/step - loss: 0.1714 - accuracy: 0.9474 - val_loss: 0.1190 - val_accuracy: 0.9677\n",
      "Epoch 5/5\n",
      "1563/1563 [==============================] - 18s 11ms/step - loss: 0.1621 - accuracy: 0.9520 - val_loss: 0.0924 - val_accuracy: 0.9736\n"
     ]
    }
   ],
   "source": [
    "#with data augmentation\n",
    "model.compile(loss=\"sparse_categorical_crossentropy\",optimizer=\"adam\",metrics=[\"accuracy\"])\n",
    "history2=model.fit(datagen.flow(x_train,y_train,batch_size=32),epochs=5,validation_data=(x_val,y_val))"
   ]
  },
  {
   "cell_type": "code",
   "execution_count": null,
   "id": "c9124261",
   "metadata": {},
   "outputs": [
    {
     "name": "stdout",
     "output_type": "stream",
     "text": [
      "313/313 [==============================] - 1s 3ms/step - loss: 0.0794 - accuracy: 0.9754\n",
      " 98/313 [========>.....................] - ETA: 0s - loss: 0.1063 - accuracy: 0.9656"
     ]
    }
   ],
   "source": [
    "#without data augmentation\n",
    "model.evaluate(x_test,y_test)\n",
    "\n",
    "#with data augmentation\n",
    "model.evaluate(x_test,y_test)    "
   ]
  },
  {
   "cell_type": "code",
   "execution_count": null,
   "id": "089d0d70",
   "metadata": {},
   "outputs": [],
   "source": [
    "import matplotlib.pyplot as plt\n",
    "plt.plot(history1.history['loss'],label=\"Training loss\")\n",
    "plt.plot(history1.history['val_loss'],label='Validation loss')\n",
    "plt.title('model loss')\n",
    "plt.ylabel('loss')\n",
    "plt.xlabel('epoch')\n",
    "plt.legend()\n",
    "plt.show"
   ]
  },
  {
   "cell_type": "code",
   "execution_count": null,
   "id": "50c03e59",
   "metadata": {},
   "outputs": [],
   "source": [
    "plt.plot(history1.history['accuracy'],label=\"Training Accuracy\")\n",
    "plt.plot(history1.history['val_accuracy'],label='Validation accuracy')\n",
    "plt.title('model Accuracy')\n",
    "plt.ylabel('Accuracy')\n",
    "plt.xlabel('epoch')\n",
    "plt.legend()\n",
    "plt.show"
   ]
  }
 ],
 "metadata": {
  "kernelspec": {
   "display_name": "Python 3 (ipykernel)",
   "language": "python",
   "name": "python3"
  },
  "language_info": {
   "codemirror_mode": {
    "name": "ipython",
    "version": 3
   },
   "file_extension": ".py",
   "mimetype": "text/x-python",
   "name": "python",
   "nbconvert_exporter": "python",
   "pygments_lexer": "ipython3",
   "version": "3.9.17"
  }
 },
 "nbformat": 4,
 "nbformat_minor": 5
}
