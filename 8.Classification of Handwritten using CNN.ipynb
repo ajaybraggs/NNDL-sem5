{
 "cells": [
  {
   "cell_type": "code",
   "execution_count": 1,
   "id": "b9d8dff4",
   "metadata": {},
   "outputs": [],
   "source": [
    "from sklearn import datasets\n",
    "from sklearn.model_selection import train_test_split\n",
    "from keras.utils import to_categorical\n",
    "from keras.models import Sequential\n",
    "from keras.layers import Conv2D,MaxPooling2D,Flatten,Dense\n",
    "from keras.callbacks import EarlyStopping,ModelCheckpoint\n",
    "import matplotlib.pyplot as plt"
   ]
  },
  {
   "cell_type": "code",
   "execution_count": 2,
   "id": "f784b8d4",
   "metadata": {},
   "outputs": [],
   "source": [
    "data=datasets.load_digits()\n",
    "x=data.images\n",
    "y=data.target"
   ]
  },
  {
   "cell_type": "code",
   "execution_count": 3,
   "id": "2a19da38",
   "metadata": {},
   "outputs": [],
   "source": [
    "x=x.reshape((x.shape[0],8,8,1))\n",
    "x=x.astype('float32')/255\n",
    "y=to_categorical(y)"
   ]
  },
  {
   "cell_type": "code",
   "execution_count": 4,
   "id": "d6203f9c",
   "metadata": {},
   "outputs": [],
   "source": [
    "x_train,x_test,y_train,y_test=train_test_split(x,y,test_size=0.2)"
   ]
  },
  {
   "cell_type": "code",
   "execution_count": 5,
   "id": "a2b998b7",
   "metadata": {},
   "outputs": [],
   "source": [
    "model=Sequential()\n",
    "model.add(Conv2D(32,kernel_size=(3,3),activation='relu',input_shape=(8,8,1)))\n",
    "model.add(MaxPooling2D(pool_size=(2,2)))\n",
    "model.add(Flatten())\n",
    "model.add(Dense(64,activation='relu'))\n",
    "model.add(Dense(10,activation='softmax'))"
   ]
  },
  {
   "cell_type": "code",
   "execution_count": 6,
   "id": "deff89a5",
   "metadata": {},
   "outputs": [],
   "source": [
    "model.compile(optimizer='adam',loss='categorical_crossentropy',metrics=['accuracy'])"
   ]
  },
  {
   "cell_type": "code",
   "execution_count": 7,
   "id": "bf3321dc",
   "metadata": {},
   "outputs": [],
   "source": [
    "earlystop=EarlyStopping(monitor='val_loss',patience=10)\n",
    "best_weights=ModelCheckpoint('best_weights.h5',save_best_only=True,monitor='val_loss',mode='min')"
   ]
  },
  {
   "cell_type": "code",
   "execution_count": 8,
   "id": "cecf4cdf",
   "metadata": {},
   "outputs": [
    {
     "name": "stdout",
     "output_type": "stream",
     "text": [
      "Epoch 1/50\n",
      "45/45 [==============================] - 1s 7ms/step - loss: 2.2906 - accuracy: 0.1928 - val_loss: 2.2733 - val_accuracy: 0.4444\n",
      "Epoch 2/50\n",
      "45/45 [==============================] - 0s 3ms/step - loss: 2.2349 - accuracy: 0.5567 - val_loss: 2.1759 - val_accuracy: 0.7139\n"
     ]
    },
    {
     "name": "stderr",
     "output_type": "stream",
     "text": [
      "C:\\Users\\Student\\AppData\\Roaming\\Python\\Python39\\site-packages\\keras\\src\\engine\\training.py:3000: UserWarning: You are saving your model as an HDF5 file via `model.save()`. This file format is considered legacy. We recommend using instead the native Keras format, e.g. `model.save('my_model.keras')`.\n",
      "  saving_api.save_model(\n"
     ]
    },
    {
     "name": "stdout",
     "output_type": "stream",
     "text": [
      "Epoch 3/50\n",
      "45/45 [==============================] - 0s 4ms/step - loss: 2.0791 - accuracy: 0.7070 - val_loss: 1.9418 - val_accuracy: 0.7694\n",
      "Epoch 4/50\n",
      "45/45 [==============================] - 0s 3ms/step - loss: 1.7607 - accuracy: 0.7850 - val_loss: 1.5530 - val_accuracy: 0.7500\n",
      "Epoch 5/50\n",
      "45/45 [==============================] - 0s 4ms/step - loss: 1.3387 - accuracy: 0.8072 - val_loss: 1.1487 - val_accuracy: 0.7944\n",
      "Epoch 6/50\n",
      "45/45 [==============================] - 0s 4ms/step - loss: 0.9723 - accuracy: 0.8441 - val_loss: 0.8506 - val_accuracy: 0.8333\n",
      "Epoch 7/50\n",
      "45/45 [==============================] - 0s 3ms/step - loss: 0.7372 - accuracy: 0.8768 - val_loss: 0.6583 - val_accuracy: 0.8667\n",
      "Epoch 8/50\n",
      "45/45 [==============================] - 0s 4ms/step - loss: 0.5927 - accuracy: 0.8949 - val_loss: 0.5426 - val_accuracy: 0.8833\n",
      "Epoch 9/50\n",
      "45/45 [==============================] - 0s 4ms/step - loss: 0.5007 - accuracy: 0.8956 - val_loss: 0.4712 - val_accuracy: 0.9111\n",
      "Epoch 10/50\n",
      "45/45 [==============================] - 0s 4ms/step - loss: 0.4372 - accuracy: 0.9040 - val_loss: 0.4213 - val_accuracy: 0.9139\n",
      "Epoch 11/50\n",
      "45/45 [==============================] - 0s 4ms/step - loss: 0.3932 - accuracy: 0.9116 - val_loss: 0.3817 - val_accuracy: 0.9111\n",
      "Epoch 12/50\n",
      "45/45 [==============================] - 0s 3ms/step - loss: 0.3571 - accuracy: 0.9221 - val_loss: 0.3540 - val_accuracy: 0.9250\n",
      "Epoch 13/50\n",
      "45/45 [==============================] - 0s 4ms/step - loss: 0.3251 - accuracy: 0.9248 - val_loss: 0.3218 - val_accuracy: 0.9194\n",
      "Epoch 14/50\n",
      "45/45 [==============================] - 0s 3ms/step - loss: 0.3009 - accuracy: 0.9339 - val_loss: 0.3023 - val_accuracy: 0.9250\n",
      "Epoch 15/50\n",
      "45/45 [==============================] - 0s 4ms/step - loss: 0.2806 - accuracy: 0.9353 - val_loss: 0.2866 - val_accuracy: 0.9333\n",
      "Epoch 16/50\n",
      "45/45 [==============================] - 0s 4ms/step - loss: 0.2649 - accuracy: 0.9395 - val_loss: 0.2742 - val_accuracy: 0.9333\n",
      "Epoch 17/50\n",
      "45/45 [==============================] - 0s 4ms/step - loss: 0.2448 - accuracy: 0.9450 - val_loss: 0.2701 - val_accuracy: 0.9167\n",
      "Epoch 18/50\n",
      "45/45 [==============================] - 0s 3ms/step - loss: 0.2379 - accuracy: 0.9402 - val_loss: 0.2583 - val_accuracy: 0.9333\n",
      "Epoch 19/50\n",
      "45/45 [==============================] - 0s 4ms/step - loss: 0.2189 - accuracy: 0.9471 - val_loss: 0.2278 - val_accuracy: 0.9500\n",
      "Epoch 20/50\n",
      "45/45 [==============================] - 0s 3ms/step - loss: 0.2152 - accuracy: 0.9485 - val_loss: 0.2278 - val_accuracy: 0.9417\n",
      "Epoch 21/50\n",
      "45/45 [==============================] - 0s 3ms/step - loss: 0.2011 - accuracy: 0.9485 - val_loss: 0.2224 - val_accuracy: 0.9417\n",
      "Epoch 22/50\n",
      "45/45 [==============================] - 0s 3ms/step - loss: 0.1924 - accuracy: 0.9499 - val_loss: 0.2170 - val_accuracy: 0.9417\n",
      "Epoch 23/50\n",
      "45/45 [==============================] - 0s 3ms/step - loss: 0.1845 - accuracy: 0.9506 - val_loss: 0.1994 - val_accuracy: 0.9417\n",
      "Epoch 24/50\n",
      "45/45 [==============================] - 0s 3ms/step - loss: 0.1747 - accuracy: 0.9576 - val_loss: 0.1965 - val_accuracy: 0.9444\n",
      "Epoch 25/50\n",
      "45/45 [==============================] - 0s 3ms/step - loss: 0.1676 - accuracy: 0.9596 - val_loss: 0.1988 - val_accuracy: 0.9444\n",
      "Epoch 26/50\n",
      "45/45 [==============================] - 0s 3ms/step - loss: 0.1633 - accuracy: 0.9548 - val_loss: 0.1871 - val_accuracy: 0.9417\n",
      "Epoch 27/50\n",
      "45/45 [==============================] - 0s 4ms/step - loss: 0.1568 - accuracy: 0.9596 - val_loss: 0.1712 - val_accuracy: 0.9556\n",
      "Epoch 28/50\n",
      "45/45 [==============================] - 0s 3ms/step - loss: 0.1505 - accuracy: 0.9617 - val_loss: 0.1795 - val_accuracy: 0.9528\n",
      "Epoch 29/50\n",
      "45/45 [==============================] - 0s 3ms/step - loss: 0.1450 - accuracy: 0.9624 - val_loss: 0.1724 - val_accuracy: 0.9472\n",
      "Epoch 30/50\n",
      "45/45 [==============================] - 0s 3ms/step - loss: 0.1440 - accuracy: 0.9596 - val_loss: 0.1643 - val_accuracy: 0.9583\n",
      "Epoch 31/50\n",
      "45/45 [==============================] - 0s 3ms/step - loss: 0.1359 - accuracy: 0.9652 - val_loss: 0.1609 - val_accuracy: 0.9500\n",
      "Epoch 32/50\n",
      "45/45 [==============================] - 0s 3ms/step - loss: 0.1302 - accuracy: 0.9680 - val_loss: 0.1620 - val_accuracy: 0.9500\n",
      "Epoch 33/50\n",
      "45/45 [==============================] - 0s 3ms/step - loss: 0.1264 - accuracy: 0.9687 - val_loss: 0.1573 - val_accuracy: 0.9472\n",
      "Epoch 34/50\n",
      "45/45 [==============================] - 0s 4ms/step - loss: 0.1211 - accuracy: 0.9687 - val_loss: 0.1544 - val_accuracy: 0.9556\n",
      "Epoch 35/50\n",
      "45/45 [==============================] - 0s 4ms/step - loss: 0.1191 - accuracy: 0.9701 - val_loss: 0.1511 - val_accuracy: 0.9611\n",
      "Epoch 36/50\n",
      "45/45 [==============================] - 0s 3ms/step - loss: 0.1169 - accuracy: 0.9673 - val_loss: 0.1623 - val_accuracy: 0.9528\n",
      "Epoch 37/50\n",
      "45/45 [==============================] - 0s 3ms/step - loss: 0.1171 - accuracy: 0.9659 - val_loss: 0.1399 - val_accuracy: 0.9639\n",
      "Epoch 38/50\n",
      "45/45 [==============================] - 0s 3ms/step - loss: 0.1098 - accuracy: 0.9736 - val_loss: 0.1551 - val_accuracy: 0.9528\n",
      "Epoch 39/50\n",
      "45/45 [==============================] - 0s 3ms/step - loss: 0.1064 - accuracy: 0.9729 - val_loss: 0.1497 - val_accuracy: 0.9722\n",
      "Epoch 40/50\n",
      "45/45 [==============================] - 0s 3ms/step - loss: 0.1018 - accuracy: 0.9749 - val_loss: 0.1360 - val_accuracy: 0.9667\n",
      "Epoch 41/50\n",
      "45/45 [==============================] - 0s 4ms/step - loss: 0.0976 - accuracy: 0.9756 - val_loss: 0.1288 - val_accuracy: 0.9667\n",
      "Epoch 42/50\n",
      "45/45 [==============================] - 0s 4ms/step - loss: 0.0962 - accuracy: 0.9743 - val_loss: 0.1350 - val_accuracy: 0.9556\n",
      "Epoch 43/50\n",
      "45/45 [==============================] - 0s 3ms/step - loss: 0.0981 - accuracy: 0.9736 - val_loss: 0.1415 - val_accuracy: 0.9667\n",
      "Epoch 44/50\n",
      "45/45 [==============================] - 0s 3ms/step - loss: 0.0943 - accuracy: 0.9756 - val_loss: 0.1299 - val_accuracy: 0.9583\n",
      "Epoch 45/50\n",
      "45/45 [==============================] - 0s 3ms/step - loss: 0.0893 - accuracy: 0.9777 - val_loss: 0.1240 - val_accuracy: 0.9694\n",
      "Epoch 46/50\n",
      "45/45 [==============================] - 0s 4ms/step - loss: 0.0887 - accuracy: 0.9770 - val_loss: 0.1211 - val_accuracy: 0.9694\n",
      "Epoch 47/50\n",
      "45/45 [==============================] - 0s 3ms/step - loss: 0.0867 - accuracy: 0.9749 - val_loss: 0.1269 - val_accuracy: 0.9667\n",
      "Epoch 48/50\n",
      "45/45 [==============================] - 0s 3ms/step - loss: 0.0823 - accuracy: 0.9756 - val_loss: 0.1270 - val_accuracy: 0.9556\n",
      "Epoch 49/50\n",
      "45/45 [==============================] - 0s 3ms/step - loss: 0.0777 - accuracy: 0.9805 - val_loss: 0.1257 - val_accuracy: 0.9639\n",
      "Epoch 50/50\n",
      "45/45 [==============================] - 0s 4ms/step - loss: 0.0770 - accuracy: 0.9798 - val_loss: 0.1184 - val_accuracy: 0.9667\n"
     ]
    }
   ],
   "source": [
    "history=model.fit(x_train,y_train,epochs=50,batch_size=32,validation_data=(x_test,y_test),\n",
    "                  callbacks=[earlystop,best_weights])"
   ]
  },
  {
   "cell_type": "code",
   "execution_count": 9,
   "id": "1baa449a",
   "metadata": {},
   "outputs": [
    {
     "data": {
      "image/png": "[encoded data removed]",
      "text/plain": [
       "<Figure size 640x480 with 1 Axes>"
      ]
     },
     "metadata": {},
     "output_type": "display_data"
    }
   ],
   "source": [
    "plt.plot(history.history['val_loss'])\n",
    "plt.title('Validation Loss')\n",
    "plt.ylabel('Loss')\n",
    "plt.xlabel('Epoch')\n",
    "plt.show()"
   ]
  },
  {
   "cell_type": "code",
   "execution_count": 10,
   "id": "554beed8",
   "metadata": {},
   "outputs": [
    {
     "data": {
      "image/png": "[encoded data removed]",
      "text/plain": [
       "<Figure size 640x480 with 1 Axes>"
      ]
     },
     "metadata": {},
     "output_type": "display_data"
    }
   ],
   "source": [
    "plt.plot(history.history['val_accuracy'])\n",
    "plt.title('Validation accuracy')\n",
    "plt.ylabel('Accuracy')\n",
    "plt.xlabel('Epoch')\n",
    "plt.show()"
   ]
  },
  {
   "cell_type": "code",
   "execution_count": 11,
   "id": "9561f773",
   "metadata": {},
   "outputs": [],
   "source": [
    "model.load_weights(\"best_weights.h5\")"
   ]
  },
  {
   "cell_type": "code",
   "execution_count": 12,
   "id": "65a1b21a",
   "metadata": {},
   "outputs": [
    {
     "name": "stdout",
     "output_type": "stream",
     "text": [
      "Test Loss: 0.11841975152492523\n",
      "Test Accuracy: 0.9666666388511658\n"
     ]
    }
   ],
   "source": [
    "test_loss,test_acc=model.evaluate(x_test,y_test,verbose=0)\n",
    "print(\"Test Loss:\",test_loss)\n",
    "print(\"Test Accuracy:\",test_acc)"
   ]
  },
  {
   "cell_type": "code",
   "execution_count": null,
   "id": "3cfb2910",
   "metadata": {},
   "outputs": [],
   "source": []
  }
 ],
 "metadata": {
  "kernelspec": {
   "display_name": "Python 3 (ipykernel)",
   "language": "python",
   "name": "python3"
  },
  "language_info": {
   "codemirror_mode": {
    "name": "ipython",
    "version": 3
   },
   "file_extension": ".py",
   "mimetype": "text/x-python",
   "name": "python",
   "nbconvert_exporter": "python",
   "pygments_lexer": "ipython3",
   "version": "3.9.17"
  }
 },
 "nbformat": 4,
 "nbformat_minor": 5
}
