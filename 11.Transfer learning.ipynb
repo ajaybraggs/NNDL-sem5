{
 "cells": [
  {
   "cell_type": "code",
   "execution_count": 10,
   "id": "c62c7f4d",
   "metadata": {},
   "outputs": [],
   "source": [
    "import numpy as np\n",
    "from tensorflow import keras\n",
    "from tensorflow.keras import layers\n",
    "from tensorflow.keras.applications import VGG16, VGG19, ResNet50\n",
    "from tensorflow.keras.datasets import cifar10\n",
    "from tensorflow.keras.utils import to_categorical"
   ]
  },
  {
   "cell_type": "code",
   "execution_count": 11,
   "id": "861df186",
   "metadata": {},
   "outputs": [],
   "source": [
    "(x_train,y_train),(x_test,y_test)=cifar10.load_data()\n",
    "x_train=x_train.astype(\"float32\")/255.0\n",
    "x_test=x_test.astype(\"float32\")/255.0"
   ]
  },
  {
   "cell_type": "code",
   "execution_count": 12,
   "id": "b0719c6c",
   "metadata": {},
   "outputs": [],
   "source": [
    "y_train=to_categorical(y_train,10)\n",
    "y_test=to_categorical(y_test,10)"
   ]
  },
  {
   "cell_type": "code",
   "execution_count": 13,
   "id": "d2f9c298",
   "metadata": {},
   "outputs": [
    {
     "name": "stdout",
     "output_type": "stream",
     "text": [
      "Downloading data from https://storage.googleapis.com/tensorflow/keras-applications/vgg19/vgg19_weights_tf_dim_ordering_tf_kernels_notop.h5\n",
      "80134624/80134624 [==============================] - 83s 1us/step\n"
     ]
    }
   ],
   "source": [
    "vgg16=VGG16(weights=\"imagenet\",include_top=False,input_shape=(32,32,3))\n",
    "vgg19=VGG19(weights=\"imagenet\",include_top=False,input_shape=(32,32,3))\n",
    "resnet=ResNet50(weights=\"imagenet\",include_top=False,input_shape=(32,32,3))"
   ]
  },
  {
   "cell_type": "code",
   "execution_count": 14,
   "id": "cfb771f2",
   "metadata": {},
   "outputs": [],
   "source": [
    "# define\n",
    "vgg16_output=layers.GlobalAveragePooling2D()(vgg16.output)\n",
    "vgg16_output=layers.Dense(10,activation=\"softmax\")(vgg16_output)\n",
    "\n",
    "vgg19_output=layers.GlobalAveragePooling2D()(vgg19.output)\n",
    "vgg19_output=layers.Dense(10,activation=\"softmax\")(vgg19_output)\n",
    "\n",
    "resnet_output=layers.GlobalAveragePooling2D()(resnet.output)\n",
    "resnet_output=layers.Dense(10,activation=\"softmax\")(resnet_output)"
   ]
  },
  {
   "cell_type": "code",
   "execution_count": 15,
   "id": "6b0c0696",
   "metadata": {},
   "outputs": [],
   "source": [
    "vgg16_model=keras.Model(inputs=vgg16.input,outputs=vgg16_output)\n",
    "vgg19_model=keras.Model(inputs=vgg19.input,outputs=vgg19_output)\n",
    "resnet_model=keras.Model(inputs=resnet.input,outputs=resnet_output)"
   ]
  },
  {
   "cell_type": "code",
   "execution_count": 16,
   "id": "610fa8b5",
   "metadata": {},
   "outputs": [],
   "source": [
    "#compile the models\n",
    "vgg16_model.compile(loss='categorical_crossentropy',optimizer='adam', metrics=['accuracy'])\n",
    "vgg19_model.compile(loss='categorical_crossentropy',optimizer='adam', metrics=['accuracy'])\n",
    "resnet_model.compile(loss='categorical_crossentropy',optimizer='adam', metrics=['accuracy'])"
   ]
  },
  {
   "cell_type": "code",
   "execution_count": 17,
   "id": "ddcf9171",
   "metadata": {},
   "outputs": [],
   "source": [
    "#evaluate thermodels\n",
    "vgg16_loss,vgg16_accuracy=vgg16_model.evaluate(x_test,y_test,verbose=0)\n",
    "vgg19_loss,vgg19_accuracy=vgg19_model.evaluate(x_test,y_test,verbose=0)\n",
    "resnet_loss,resnet_accuracy=resnet_model.evaluate(x_test,y_test,verbose=0)"
   ]
  },
  {
   "cell_type": "code",
   "execution_count": 19,
   "id": "5930b020",
   "metadata": {},
   "outputs": [
    {
     "name": "stdout",
     "output_type": "stream",
     "text": [
      "VGG16 Test Accuracy: 0.09459999948740005\n",
      "VGG19 Test Accuracy: 0.10520000010728836\n",
      "ResNet50 Test Accuracy: 0.10000000149011612\n"
     ]
    }
   ],
   "source": [
    "#print the results\n",
    "print('VGG16 Test Accuracy:',vgg16_accuracy)\n",
    "print('VGG19 Test Accuracy:',vgg19_accuracy)\n",
    "print('ResNet50 Test Accuracy:',resnet_accuracy)"
   ]
  },
  {
   "cell_type": "code",
   "execution_count": null,
   "id": "b463b3b9",
   "metadata": {},
   "outputs": [],
   "source": []
  }
 ],
 "metadata": {
  "kernelspec": {
   "display_name": "Python 3 (ipykernel)",
   "language": "python",
   "name": "python3"
  },
  "language_info": {
   "codemirror_mode": {
    "name": "ipython",
    "version": 3
   },
   "file_extension": ".py",
   "mimetype": "text/x-python",
   "name": "python",
   "nbconvert_exporter": "python",
   "pygments_lexer": "ipython3",
   "version": "3.9.17"
  }
 },
 "nbformat": 4,
 "nbformat_minor": 5
}
