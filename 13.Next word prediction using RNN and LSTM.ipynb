{
 "cells": [
  {
   "cell_type": "markdown",
   "id": "51e6675e",
   "metadata": {},
   "source": [
    "# Using RNN"
   ]
  },
  {
   "cell_type": "code",
   "execution_count": 3,
   "id": "edc2b6eb",
   "metadata": {},
   "outputs": [],
   "source": [
    "import tensorflow as tf\n",
    "import numpy as np"
   ]
  },
  {
   "cell_type": "code",
   "execution_count": 4,
   "id": "f00854f4",
   "metadata": {},
   "outputs": [],
   "source": [
    "# Sample text data\n",
    "text = \"This is a sample text used to demonstrate predictive text with basic RNNs. In this example, we'll predict the next word\""
   ]
  },
  {
   "cell_type": "code",
   "execution_count": 5,
   "id": "c0c9879a",
   "metadata": {},
   "outputs": [],
   "source": [
    "# Preprocess the text and create a vocabulary\n",
    "tokenizer = tf.keras.layers.TextVectorization()\n",
    "tokenizer.adapt(text.split())"
   ]
  },
  {
   "cell_type": "code",
   "execution_count": 6,
   "id": "2ae65a53",
   "metadata": {},
   "outputs": [
    {
     "data": {
      "text/plain": [
       "<tf.Tensor: shape=(21,), dtype=int64, numpy=\n",
       "array([ 2, 15, 20, 10,  3,  7,  8, 18, 12,  3,  5, 19, 11, 16,  2, 17,  6,\n",
       "       13,  9, 14,  4], dtype=int64)>"
      ]
     },
     "execution_count": 6,
     "metadata": {},
     "output_type": "execute_result"
    }
   ],
   "source": [
    "# Convert text to sequences of token indices\n",
    "text_sequences = tokenizer(text)\n",
    "text_sequences"
   ]
  },
  {
   "cell_type": "code",
   "execution_count": 7,
   "id": "7d16fb9e",
   "metadata": {},
   "outputs": [],
   "source": [
    "# Create training data (X) and target data (y)\n",
    "X = text_sequences[:-1]\n",
    "y = text_sequences[1:]"
   ]
  },
  {
   "cell_type": "code",
   "execution_count": 8,
   "id": "37191538",
   "metadata": {},
   "outputs": [],
   "source": [
    "# Build a basic RNN model using Keras\n",
    "model = tf.keras.Sequential([\n",
    "    tf.keras.layers.Embedding(input_dim=len(tokenizer.get_vocabulary()), output_dim=64, input_length=1),\n",
    "    tf.keras.layers.SimpleRNN(128, return_sequences=True),\n",
    "    tf.keras.layers.Dense(len(tokenizer.get_vocabulary()), activation='softmax')\n",
    "])"
   ]
  },
  {
   "cell_type": "code",
   "execution_count": 9,
   "id": "6e521d2b",
   "metadata": {},
   "outputs": [],
   "source": [
    "model.compile(loss='sparse_categorical_crossentropy', optimizer='adam')"
   ]
  },
  {
   "cell_type": "code",
   "execution_count": 10,
   "id": "1cea8a7d",
   "metadata": {},
   "outputs": [
    {
     "name": "stdout",
     "output_type": "stream",
     "text": [
      "Epoch 1/50\n",
      "1/1 [==============================] - 1s 1s/step - loss: 3.0388\n",
      "Epoch 2/50\n",
      "1/1 [==============================] - 0s 0s/step - loss: 3.0248\n",
      "Epoch 3/50\n",
      "1/1 [==============================] - 0s 2ms/step - loss: 3.0108\n",
      "Epoch 4/50\n",
      "1/1 [==============================] - 0s 0s/step - loss: 2.9968\n",
      "Epoch 5/50\n",
      "1/1 [==============================] - 0s 15ms/step - loss: 2.9827\n",
      "Epoch 6/50\n",
      "1/1 [==============================] - 0s 2ms/step - loss: 2.9685\n",
      "Epoch 7/50\n",
      "1/1 [==============================] - 0s 0s/step - loss: 2.9541\n",
      "Epoch 8/50\n",
      "1/1 [==============================] - 0s 13ms/step - loss: 2.9396\n",
      "Epoch 9/50\n",
      "1/1 [==============================] - 0s 782us/step - loss: 2.9248\n",
      "Epoch 10/50\n",
      "1/1 [==============================] - 0s 0s/step - loss: 2.9097\n",
      "Epoch 11/50\n",
      "1/1 [==============================] - 0s 0s/step - loss: 2.8944\n",
      "Epoch 12/50\n",
      "1/1 [==============================] - 0s 1ms/step - loss: 2.8787\n",
      "Epoch 13/50\n",
      "1/1 [==============================] - 0s 0s/step - loss: 2.8626\n",
      "Epoch 14/50\n",
      "1/1 [==============================] - 0s 0s/step - loss: 2.8461\n",
      "Epoch 15/50\n",
      "1/1 [==============================] - 0s 2ms/step - loss: 2.8291\n",
      "Epoch 16/50\n",
      "1/1 [==============================] - 0s 7ms/step - loss: 2.8117\n",
      "Epoch 17/50\n",
      "1/1 [==============================] - 0s 0s/step - loss: 2.7937\n",
      "Epoch 18/50\n",
      "1/1 [==============================] - 0s 3ms/step - loss: 2.7752\n",
      "Epoch 19/50\n",
      "1/1 [==============================] - 0s 0s/step - loss: 2.7560\n",
      "Epoch 20/50\n",
      "1/1 [==============================] - 0s 0s/step - loss: 2.7363\n",
      "Epoch 21/50\n",
      "1/1 [==============================] - 0s 1ms/step - loss: 2.7159\n",
      "Epoch 22/50\n",
      "1/1 [==============================] - 0s 0s/step - loss: 2.6948\n",
      "Epoch 23/50\n",
      "1/1 [==============================] - 0s 0s/step - loss: 2.6730\n",
      "Epoch 24/50\n",
      "1/1 [==============================] - 0s 2ms/step - loss: 2.6504\n",
      "Epoch 25/50\n",
      "1/1 [==============================] - 0s 0s/step - loss: 2.6271\n",
      "Epoch 26/50\n",
      "1/1 [==============================] - 0s 0s/step - loss: 2.6030\n",
      "Epoch 27/50\n",
      "1/1 [==============================] - 0s 2ms/step - loss: 2.5780\n",
      "Epoch 28/50\n",
      "1/1 [==============================] - 0s 0s/step - loss: 2.5521\n",
      "Epoch 29/50\n",
      "1/1 [==============================] - 0s 0s/step - loss: 2.5254\n",
      "Epoch 30/50\n",
      "1/1 [==============================] - 0s 17ms/step - loss: 2.4978\n",
      "Epoch 31/50\n",
      "1/1 [==============================] - 0s 0s/step - loss: 2.4693\n",
      "Epoch 32/50\n",
      "1/1 [==============================] - 0s 0s/step - loss: 2.4398\n",
      "Epoch 33/50\n",
      "1/1 [==============================] - 0s 17ms/step - loss: 2.4093\n",
      "Epoch 34/50\n",
      "1/1 [==============================] - 0s 0s/step - loss: 2.3779\n",
      "Epoch 35/50\n",
      "1/1 [==============================] - 0s 0s/step - loss: 2.3454\n",
      "Epoch 36/50\n",
      "1/1 [==============================] - 0s 10ms/step - loss: 2.3120\n",
      "Epoch 37/50\n",
      "1/1 [==============================] - 0s 0s/step - loss: 2.2775\n",
      "Epoch 38/50\n",
      "1/1 [==============================] - 0s 0s/step - loss: 2.2420\n",
      "Epoch 39/50\n",
      "1/1 [==============================] - 0s 16ms/step - loss: 2.2055\n",
      "Epoch 40/50\n",
      "1/1 [==============================] - 0s 0s/step - loss: 2.1679\n",
      "Epoch 41/50\n",
      "1/1 [==============================] - 0s 0s/step - loss: 2.1294\n",
      "Epoch 42/50\n",
      "1/1 [==============================] - 0s 16ms/step - loss: 2.0898\n",
      "Epoch 43/50\n",
      "1/1 [==============================] - 0s 0s/step - loss: 2.0492\n",
      "Epoch 44/50\n",
      "1/1 [==============================] - 0s 0s/step - loss: 2.0076\n",
      "Epoch 45/50\n",
      "1/1 [==============================] - 0s 17ms/step - loss: 1.9651\n",
      "Epoch 46/50\n",
      "1/1 [==============================] - 0s 0s/step - loss: 1.9217\n",
      "Epoch 47/50\n",
      "1/1 [==============================] - 0s 0s/step - loss: 1.8774\n",
      "Epoch 48/50\n",
      "1/1 [==============================] - 0s 16ms/step - loss: 1.8322\n",
      "Epoch 49/50\n",
      "1/1 [==============================] - 0s 0s/step - loss: 1.7863\n",
      "Epoch 50/50\n",
      "1/1 [==============================] - 0s 10ms/step - loss: 1.7396\n"
     ]
    },
    {
     "data": {
      "text/plain": [
       "<keras.src.callbacks.History at 0x21902ea6340>"
      ]
     },
     "execution_count": 10,
     "metadata": {},
     "output_type": "execute_result"
    }
   ],
   "source": [
    "# Train the model\n",
    "model.fit(X, y, epochs=50)"
   ]
  },
  {
   "cell_type": "code",
   "execution_count": 11,
   "id": "2c311bc0",
   "metadata": {},
   "outputs": [],
   "source": [
    "# Function to generate the next word\n",
    "def generate_next_word(seed_text):\n",
    "    seed_sequence = tokenizer(seed_text)\n",
    "    predicted_probabilities = model.predict(seed_sequence)\n",
    "    predicted_index = np.argmax(predicted_probabilities)\n",
    "    predicted_word = tokenizer.get_vocabulary()[predicted_index]\n",
    "    return predicted_word"
   ]
  },
  {
   "cell_type": "code",
   "execution_count": 12,
   "id": "633b2a9c",
   "metadata": {},
   "outputs": [
    {
     "name": "stdout",
     "output_type": "stream",
     "text": [
      "1/1 [==============================] - 0s 153ms/step\n",
      "Input: 'used', Predicted: 'to'\n"
     ]
    }
   ],
   "source": [
    "# Test the predictive text system\n",
    "input_text = \"used\"\n",
    "predicted_word = generate_next_word(input_text)\n",
    "print(f\"Input: '{input_text}', Predicted: '{predicted_word}'\")"
   ]
  },
  {
   "cell_type": "markdown",
   "id": "09517232",
   "metadata": {},
   "source": [
    "# Using LSTM"
   ]
  },
  {
   "cell_type": "code",
   "execution_count": 13,
   "id": "c10c2ba2",
   "metadata": {},
   "outputs": [
    {
     "name": "stdout",
     "output_type": "stream",
     "text": [
      "Epoch 1/50\n",
      "1/1 [==============================] - 2s 2s/step - loss: 3.1366\n",
      "Epoch 2/50\n",
      "1/1 [==============================] - 0s 0s/step - loss: 3.1338\n",
      "Epoch 3/50\n",
      "1/1 [==============================] - 0s 13ms/step - loss: 3.1311\n",
      "Epoch 4/50\n",
      "1/1 [==============================] - 0s 0s/step - loss: 3.1283\n",
      "Epoch 5/50\n",
      "1/1 [==============================] - 0s 16ms/step - loss: 3.1256\n",
      "Epoch 6/50\n",
      "1/1 [==============================] - 0s 0s/step - loss: 3.1227\n",
      "Epoch 7/50\n",
      "1/1 [==============================] - 0s 16ms/step - loss: 3.1199\n",
      "Epoch 8/50\n",
      "1/1 [==============================] - 0s 0s/step - loss: 3.1170\n",
      "Epoch 9/50\n",
      "1/1 [==============================] - 0s 15ms/step - loss: 3.1141\n",
      "Epoch 10/50\n",
      "1/1 [==============================] - 0s 6ms/step - loss: 3.1110\n",
      "Epoch 11/50\n",
      "1/1 [==============================] - 0s 5ms/step - loss: 3.1079\n",
      "Epoch 12/50\n",
      "1/1 [==============================] - 0s 0s/step - loss: 3.1048\n",
      "Epoch 13/50\n",
      "1/1 [==============================] - 0s 15ms/step - loss: 3.1015\n",
      "Epoch 14/50\n",
      "1/1 [==============================] - 0s 6ms/step - loss: 3.0981\n",
      "Epoch 15/50\n",
      "1/1 [==============================] - 0s 7ms/step - loss: 3.0946\n",
      "Epoch 16/50\n",
      "1/1 [==============================] - 0s 5ms/step - loss: 3.0909\n",
      "Epoch 17/50\n",
      "1/1 [==============================] - 0s 5ms/step - loss: 3.0872\n",
      "Epoch 18/50\n",
      "1/1 [==============================] - 0s 6ms/step - loss: 3.0832\n",
      "Epoch 19/50\n",
      "1/1 [==============================] - 0s 6ms/step - loss: 3.0791\n",
      "Epoch 20/50\n",
      "1/1 [==============================] - 0s 5ms/step - loss: 3.0748\n",
      "Epoch 21/50\n",
      "1/1 [==============================] - 0s 5ms/step - loss: 3.0704\n",
      "Epoch 22/50\n",
      "1/1 [==============================] - 0s 6ms/step - loss: 3.0657\n",
      "Epoch 23/50\n",
      "1/1 [==============================] - 0s 6ms/step - loss: 3.0609\n",
      "Epoch 24/50\n",
      "1/1 [==============================] - 0s 6ms/step - loss: 3.0558\n",
      "Epoch 25/50\n",
      "1/1 [==============================] - 0s 6ms/step - loss: 3.0505\n",
      "Epoch 26/50\n",
      "1/1 [==============================] - 0s 5ms/step - loss: 3.0449\n",
      "Epoch 27/50\n",
      "1/1 [==============================] - 0s 6ms/step - loss: 3.0391\n",
      "Epoch 28/50\n",
      "1/1 [==============================] - 0s 7ms/step - loss: 3.0330\n",
      "Epoch 29/50\n",
      "1/1 [==============================] - 0s 6ms/step - loss: 3.0266\n",
      "Epoch 30/50\n",
      "1/1 [==============================] - 0s 5ms/step - loss: 3.0199\n",
      "Epoch 31/50\n",
      "1/1 [==============================] - 0s 6ms/step - loss: 3.0130\n",
      "Epoch 32/50\n",
      "1/1 [==============================] - 0s 6ms/step - loss: 3.0057\n",
      "Epoch 33/50\n",
      "1/1 [==============================] - 0s 6ms/step - loss: 2.9980\n",
      "Epoch 34/50\n",
      "1/1 [==============================] - 0s 6ms/step - loss: 2.9900\n",
      "Epoch 35/50\n",
      "1/1 [==============================] - 0s 6ms/step - loss: 2.9816\n",
      "Epoch 36/50\n",
      "1/1 [==============================] - 0s 6ms/step - loss: 2.9729\n",
      "Epoch 37/50\n",
      "1/1 [==============================] - 0s 6ms/step - loss: 2.9637\n",
      "Epoch 38/50\n",
      "1/1 [==============================] - 0s 7ms/step - loss: 2.9541\n",
      "Epoch 39/50\n",
      "1/1 [==============================] - 0s 6ms/step - loss: 2.9441\n",
      "Epoch 40/50\n",
      "1/1 [==============================] - 0s 6ms/step - loss: 2.9336\n",
      "Epoch 41/50\n",
      "1/1 [==============================] - 0s 6ms/step - loss: 2.9227\n",
      "Epoch 42/50\n",
      "1/1 [==============================] - 0s 6ms/step - loss: 2.9113\n",
      "Epoch 43/50\n",
      "1/1 [==============================] - 0s 5ms/step - loss: 2.8993\n",
      "Epoch 44/50\n",
      "1/1 [==============================] - 0s 6ms/step - loss: 2.8868\n",
      "Epoch 45/50\n",
      "1/1 [==============================] - 0s 6ms/step - loss: 2.8738\n",
      "Epoch 46/50\n",
      "1/1 [==============================] - 0s 5ms/step - loss: 2.8602\n",
      "Epoch 47/50\n",
      "1/1 [==============================] - 0s 6ms/step - loss: 2.8460\n",
      "Epoch 48/50\n",
      "1/1 [==============================] - 0s 7ms/step - loss: 2.8313\n",
      "Epoch 49/50\n",
      "1/1 [==============================] - 0s 5ms/step - loss: 2.8158\n",
      "Epoch 50/50\n",
      "1/1 [==============================] - 0s 5ms/step - loss: 2.7998\n",
      "1/1 [==============================] - 0s 365ms/step\n",
      "Input: 'This is', Predicted: 'example'\n"
     ]
    }
   ],
   "source": [
    "import tensorflow as tf\n",
    "import numpy as np\n",
    "\n",
    "# Sample text data\n",
    "text = \"This is a sample text used to demonstrate predictive text with LSTM. In this example, we'll predict the next word as you type.\"\n",
    "\n",
    "# Preprocess the text and create a vocabulary\n",
    "tokenizer = tf.keras.layers.TextVectorization()\n",
    "tokenizer.adapt(text.split())\n",
    "\n",
    "# Convert text to sequences of token indices\n",
    "text_sequences = tokenizer(text)\n",
    "\n",
    "# Create training data (X) and target data (y)\n",
    "X = text_sequences[:-1]\n",
    "y = text_sequences[1:]\n",
    "\n",
    "# Build an LSTM model using Keras\n",
    "model = tf.keras.Sequential([\n",
    "    tf.keras.layers.Embedding(input_dim=len(tokenizer.get_vocabulary()), output_dim=64, input_length=1),\n",
    "    tf.keras.layers.LSTM(128, return_sequences=True),\n",
    "    tf.keras.layers.Dense(len(tokenizer.get_vocabulary()), activation='softmax')\n",
    "])\n",
    "\n",
    "model.compile(loss='sparse_categorical_crossentropy', optimizer='adam')\n",
    "\n",
    "# Train the model\n",
    "model.fit(X, y, epochs=50)\n",
    "\n",
    "# Function to generate the next word\n",
    "def generate_next_word(seed_text):\n",
    "    seed_sequence = tokenizer(seed_text)\n",
    "    predicted_probabilities = model.predict(seed_sequence)\n",
    "    predicted_index = np.argmax(predicted_probabilities)\n",
    "    predicted_word = tokenizer.get_vocabulary()[predicted_index]\n",
    "    return predicted_word\n",
    "\n",
    "# Test the predictive text system\n",
    "input_text = \"This is\"\n",
    "predicted_word = generate_next_word(input_text)\n",
    "print(f\"Input: '{input_text}', Predicted: '{predicted_word}'\")"
   ]
  },
  {
   "cell_type": "code",
   "execution_count": null,
   "id": "1a6a4ad5",
   "metadata": {},
   "outputs": [],
   "source": []
  }
 ],
 "metadata": {
  "kernelspec": {
   "display_name": "Python 3 (ipykernel)",
   "language": "python",
   "name": "python3"
  },
  "language_info": {
   "codemirror_mode": {
    "name": "ipython",
    "version": 3
   },
   "file_extension": ".py",
   "mimetype": "text/x-python",
   "name": "python",
   "nbconvert_exporter": "python",
   "pygments_lexer": "ipython3",
   "version": "3.9.17"
  }
 },
 "nbformat": 4,
 "nbformat_minor": 5
}
